{
 "cells": [
  {
   "attachments": {},
   "cell_type": "markdown",
   "metadata": {},
   "source": [
    "# Problem 1\n",
    "\n",
    "Şimdi beraber kullanıcılardan aldığımız verileri işleyerek, onlara hem çıktı verecek, hem de aldığımız ve hesapladığımız verileri ileride kullanabilmek adına kaydedeceğiz.\n",
    "\n",
    "\n",
    " **Bu bir veri giriş platformu olacak**\n",
    "\n",
    "\n",
    " * kullanıcıya kaç giriş yapacağını soracağız\n",
    "* kullanıcıdan isim-soyisim, yaş, boy, kilo bilgilerini alarak VKİ hesaplayacağız\n",
    "* ardından bunları sınıflara göre kaydedeceğiz bir dosyaya kaydedeceğiz\n",
    "\n",
    "\n",
    "Sınıflar ise şu şekilde: \n",
    "* 18, 5 kg/m.'nin altında olanlar: Zayıf\n",
    "* 18.5 – 24, 9 kg/m. arasında olanlar: Normal kilolu\n",
    "* 25 – 29, 9 kg/m. arasında olanlar: Fazla kilolu\n",
    "* 30 – 39, 9 kg/m. arasında olanlar: Obez\n",
    "* 40 kg/m.'nin üzerinde olanlar: İleri derecede obez (morbid obez), olarak görülür."
   ]
  },
  {
   "cell_type": "code",
   "execution_count": 7,
   "metadata": {},
   "outputs": [],
   "source": [
    "kullaniciSozlugu = {\"Zayif\":[],\n",
    "                    \"Normal_Kilolu\":[],\n",
    "                    \"Fazla_Kilolu\":[],\n",
    "                    \"Obez\":[],\n",
    "                    \"Morbez\":[]}"
   ]
  },
  {
   "cell_type": "code",
   "execution_count": 86,
   "metadata": {},
   "outputs": [],
   "source": [
    "girisSayisi=int(input(\"Kaç giriş yapacaksınız?:\"))\n",
    "\n",
    "\n",
    "class Kullanicilar():\n",
    "    def __init__(self, kullaniciIsim, kullaniciSoyisim, kullaniciYas, kullaniciBoy, kullaniciKilo):\n",
    "        self.kullaniciIsim=kullaniciIsim\n",
    "        self.kullaniciSoyisim=kullaniciSoyisim\n",
    "        self.kullaniciYas=kullaniciYas\n",
    "        self.kullaniciBoy=kullaniciBoy\n",
    "        self.kullaniciKilo=kullaniciKilo\n",
    "\n",
    "class Zayif(Kullanicilar):\n",
    "    pass\n",
    "\n",
    "class Normal_Kilolu(Kullanicilar):\n",
    "    pass\n",
    "\n",
    "class Fazla_Kilolu(Kullanicilar):\n",
    "    pass\n",
    "\n",
    "class Obez(Kullanicilar):\n",
    "    pass\n",
    "\n",
    "class Morbez(Kullanicilar):\n",
    "    pass\n",
    "\n",
    "for i in range(0,girisSayisi):\n",
    "    kullaniciIsim=input(\"İsminiz:\")\n",
    "    kullaniciSoyisim=input(\"Soyisminiz:\")\n",
    "    kullaniciYas=int(input(\"Yaşınız:\"))\n",
    "    kullaniciBoy=int(input(\"Boyunuz:\"))\n",
    "    kullaniciKilo=int(input(\"Kilonuz:\"))\n",
    "    vki=kullaniciKilo/((kullaniciBoy/100)*(kullaniciBoy/100))\n",
    "\n",
    "    if vki<18.5:\n",
    "        i=Zayif(kullaniciIsim,kullaniciSoyisim,kullaniciYas,kullaniciBoy,kullaniciKilo)\n",
    "    elif vki<=24.9:\n",
    "        i=Normal_Kilolu(kullaniciIsim,kullaniciSoyisim,kullaniciYas,kullaniciBoy,kullaniciKilo)\n",
    "    elif vki<=29.9:\n",
    "        i=Fazla_Kilolu(kullaniciIsim,kullaniciSoyisim,kullaniciYas,kullaniciBoy,kullaniciKilo)\n",
    "    elif vki<=39.9:\n",
    "        i=Obez(kullaniciIsim,kullaniciSoyisim,kullaniciYas,kullaniciBoy,kullaniciKilo)\n",
    "    else:\n",
    "        i=Morbez(kullaniciIsim,kullaniciSoyisim,kullaniciYas,kullaniciBoy,kullaniciKilo)   \n",
    "    kullaniciSozlugu[i.__class__.__name__].append(i)\n"
   ]
  },
  {
   "cell_type": "code",
   "execution_count": 87,
   "metadata": {},
   "outputs": [
    {
     "name": "stdout",
     "output_type": "stream",
     "text": [
      "--Zayif--\n",
      "Ali Veli: 98 yaşında Kilo:34 Boy:150\n",
      "Yasemin Gül: 23 yaşında Kilo:42 Boy:167\n",
      "\n",
      "--Normal_Kilolu--\n",
      "Hayri Bey: 87 yaşında Kilo:73 Boy:172\n",
      "Tarık Yeni: 49 yaşında Kilo:74 Boy:180\n",
      "Merve Nur: 19 yaşında Kilo:54 Boy:156\n",
      "Ece Fırat: 23 yaşında Kilo:53 Boy:165\n",
      "\n",
      "--Fazla_Kilolu--\n",
      "Boğaç Ond: 25 yaşında Kilo:85 Boy:178\n",
      "Rıfkı Hıdır: 34 yaşında Kilo:83 Boy:173\n",
      "Berk Kayı: 24 yaşında Kilo:94 Boy:179\n",
      "\n",
      "--Obez--\n",
      "Ayşe Fatma: 45 yaşında Kilo:90 Boy:165\n",
      "Yasin Lal: 78 yaşında Kilo:95 Boy:160\n",
      "\n",
      "--Morbez--\n",
      "Ayşe Kalburüstü: 34 yaşında Kilo:110 Boy:150\n",
      "\n",
      "\n"
     ]
    }
   ],
   "source": [
    "with open(\"tip.txt\",\"r+\",encoding=\"UTF-8\") as file:   \n",
    "    text=file.read()\n",
    "    file.seek(0)\n",
    "    siniflar=[\"Zayif\",\"Normal_Kilolu\",\"Fazla_Kilolu\",\"Obez\",\"Morbez\"]\n",
    "    for i in siniflar:\n",
    "        baslik=\"--\"+i+\"--\\n\"\n",
    "        file.write(baslik)\n",
    "        for a in range(0,len(kullaniciSozlugu[i])):\n",
    "            file.write(list(map(lambda x: x.kullaniciIsim + \" \" + x.kullaniciSoyisim + \":\"+ \" \" +str(x.kullaniciYas) + \" \" + \"yaşında\"+ \" \" +\"Kilo:\"+ str(x.kullaniciKilo) + \" \" +\"Boy\"+\":\"+ str(x.kullaniciBoy) +\"\\n\", kullaniciSozlugu[i]))[a])\n",
    "        file.write(\"\\n\")\n",
    "    file.seek(0)\n",
    "    print(file.read())"
   ]
  },
  {
   "attachments": {},
   "cell_type": "markdown",
   "metadata": {},
   "source": [
    "# Problem 2\n",
    "**YetBar - Smoothie Bank**\n",
    "---\n",
    "YetBar spor salonunun girişinde bulunan, insansız bir sağlıklı içecek otomatıdır. Kullanıcı çeşitli girdiler smoothie içeceğine koyacağı ürünleri belirleyebilir, fiyat hesaplaması yaptırabilir ya da sadece menüyü görüntüleyebilir.\n",
    "\n",
    "**Projenin Amacı:**\n",
    "\n",
    "*   Birbirini etkileyen ve bir kod içerisinde birden fazla defa başvurulacak fonksiyonların oluşturulup, \"fonksiyonel\" proglamlamak.\n",
    "*   Büyük programları yazarken, yazılımcı olarak yapabileceğimiz hatalardan kaçınmak için kontrol yöntemleri geliştirmek.\n",
    "*   Kullanıcı inputlarını ve yaptığımız hesapları, raporlamak/loglamak amacıyla kaydetmek.\n",
    "\n",
    "**Programdan Beklenen Çıktılar**\n",
    "* Program kullanıcıya temelde 2 farklı işlem yapma imkanı sağlar.\n",
    "> 1. Menüyü görüntüleme\n",
    "> 3. Satın alma\n",
    "* Satın alınan her içecek tarih, fiyat bilgisi ile kaydedilmeli ve her zaman ulaşılabilir olmalıdır.\n",
    "\n",
    "\n"
   ]
  },
  {
   "cell_type": "code",
   "execution_count": 3,
   "metadata": {},
   "outputs": [
    {
     "name": "stdout",
     "output_type": "stream",
     "text": [
      "Mon Apr 17 21:37:56 2023\n"
     ]
    },
    {
     "ename": "AssertionError",
     "evalue": "Hatalı Giriş",
     "output_type": "error",
     "traceback": [
      "\u001b[1;31m---------------------------------------------------------------------------\u001b[0m",
      "\u001b[1;31mAssertionError\u001b[0m                            Traceback (most recent call last)",
      "Cell \u001b[1;32mIn[3], line 8\u001b[0m\n\u001b[0;32m      4\u001b[0m \u001b[39mprint\u001b[39m(tarih)\n\u001b[0;32m      6\u001b[0m x\u001b[39m=\u001b[39m\u001b[39mint\u001b[39m(\u001b[39minput\u001b[39m())\n\u001b[1;32m----> 8\u001b[0m \u001b[39massert\u001b[39;00m x\u001b[39m!=\u001b[39m\u001b[39m0\u001b[39m,\u001b[39m\"\u001b[39m\u001b[39mHatalı Giriş\u001b[39m\u001b[39m\"\u001b[39m\n\u001b[0;32m     10\u001b[0m \u001b[39mprint\u001b[39m(x)\n",
      "\u001b[1;31mAssertionError\u001b[0m: Hatalı Giriş"
     ]
    }
   ],
   "source": [
    "import time\n",
    "\n",
    "tarih=time.ctime()\n",
    "print(tarih)\n",
    "\n",
    "x=int(input())\n",
    "\n",
    "assert x!=0,\"Hatalı Giriş\"\n",
    "\n",
    "print(x)\n"
   ]
  }
 ],
 "metadata": {
  "kernelspec": {
   "display_name": "Python 3",
   "language": "python",
   "name": "python3"
  },
  "language_info": {
   "codemirror_mode": {
    "name": "ipython",
    "version": 3
   },
   "file_extension": ".py",
   "mimetype": "text/x-python",
   "name": "python",
   "nbconvert_exporter": "python",
   "pygments_lexer": "ipython3",
   "version": "3.11.3"
  },
  "orig_nbformat": 4,
  "vscode": {
   "interpreter": {
    "hash": "5026d2d6e7aaaaba093def813beadff083d8733e4a511af01735cbabd156995d"
   }
  }
 },
 "nbformat": 4,
 "nbformat_minor": 2
}
