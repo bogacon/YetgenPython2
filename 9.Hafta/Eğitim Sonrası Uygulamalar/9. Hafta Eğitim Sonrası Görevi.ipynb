{
 "cells": [
  {
   "attachments": {},
   "cell_type": "markdown",
   "metadata": {},
   "source": [
    "# Problem 1\n",
    "\n",
    "Kumanda isminde bir sınıf oluşturarak aşağıdaki işlemleri yapmasını sağlayan fonksiyonları sınıf içerisinde yazalım.\n",
    "1. Tv Aç\n",
    "2. Tv Kapat\n",
    "3. Ses Ayarları\n",
    "4. Kanal Ekle\n",
    "5. Kanal Sayısını Öğrenme\n",
    "6. Rastgele Kanala Geçme\n",
    "7. Televizyon Bilgileri\n",
    "\n",
    "\n",
    "Kumandayı kapatmak için q tuşuna basılmalı ve diğer durumlarda hangi işlemi yapmak istediği sorulmalıdır. Her işlemde gerekli fonksiyonunun sınıf içerisinden çağırılması gerekmektedir.\n",
    "\n",
    "random ve time kütüphanesini araştırarak kullanabilirsiniz.\n",
    "\n",
    "Kendi istediğiniz özellikleri eklemekte serbetsiniz."
   ]
  },
  {
   "cell_type": "code",
   "execution_count": 16,
   "metadata": {},
   "outputs": [],
   "source": [
    "import time\n",
    "import random\n",
    "\n",
    "class Kumanda():\n",
    "    \n",
    "    def Open():\n",
    "        print(\"TV Açılıyor..\")\n",
    "        time.sleep(3)\n",
    "        print(\"Hoşgeldiniz\")\n",
    "        \n",
    "    def Close():\n",
    "        print(\"Hoşçakalın\")\n",
    "        \n",
    "    def Volume():\n",
    "        volume=0\n",
    "        tempVol=0\n",
    "        while 1:\n",
    "            v=input()\n",
    "            if v==\"y\":\n",
    "                volume=volume+1\n",
    "                print(f\"Volume:{volume}\")\n",
    "            elif v==\"d\":\n",
    "                volume=volume-1\n",
    "                print(f\"Volume:{volume}\")\n",
    "            elif v==\"m\":\n",
    "                if volume==0:\n",
    "                    volume=tempVol\n",
    "                    print(f\"Volume:{volume}\")\n",
    "                else:\n",
    "                    tempVol=volume\n",
    "                    volume=0\n",
    "                    print(f\"Volume:{volume}\")\n",
    "                \n",
    "            else:\n",
    "                print(\"Ses ayarları için lütfen y,d,m harflerini giriniz\")\n",
    "                break\n",
    "            \n",
    "        "
   ]
  },
  {
   "cell_type": "code",
   "execution_count": 21,
   "metadata": {},
   "outputs": [
    {
     "name": "stdout",
     "output_type": "stream",
     "text": [
      "Volume:1\n",
      "Volume:2\n",
      "Volume:3\n",
      "Volume:4\n",
      "Volume:5\n",
      "Volume:4\n",
      "Volume:3\n",
      "Volume:0\n",
      "Volume:3\n",
      "Volume:0\n",
      "Ses ayarları için lütfen y,d,m harflerini giriniz\n"
     ]
    }
   ],
   "source": [
    "Kumanda.Volume()"
   ]
  }
 ],
 "metadata": {
  "kernelspec": {
   "display_name": "Python 3",
   "language": "python",
   "name": "python3"
  },
  "language_info": {
   "codemirror_mode": {
    "name": "ipython",
    "version": 3
   },
   "file_extension": ".py",
   "mimetype": "text/x-python",
   "name": "python",
   "nbconvert_exporter": "python",
   "pygments_lexer": "ipython3",
   "version": "3.11.3"
  },
  "orig_nbformat": 4,
  "vscode": {
   "interpreter": {
    "hash": "5026d2d6e7aaaaba093def813beadff083d8733e4a511af01735cbabd156995d"
   }
  }
 },
 "nbformat": 4,
 "nbformat_minor": 2
}
